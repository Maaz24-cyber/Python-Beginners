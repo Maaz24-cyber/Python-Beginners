{
 "cells": [
  {
   "cell_type": "markdown",
   "metadata": {},
   "source": [
    "# Grades "
   ]
  },
  {
   "cell_type": "code",
   "execution_count": 1,
   "metadata": {},
   "outputs": [
    {
     "name": "stdout",
     "output_type": "stream",
     "text": [
      " Enter your marks 75\n",
      " B \n"
     ]
    }
   ],
   "source": [
    "per = int(input(\" Enter your marks \"))\n",
    "if per > 90  < 100:\n",
    "    print(\" A \")\n",
    "elif per > 70:\n",
    "    print(\" B \")\n",
    "elif per > 50:\n",
    "    print(\" C \") \n",
    "elif per < 50 > 0:\n",
    "    print(\" F \")    \n",
    "else:\n",
    "    print(\" Your enter invalid marks \")"
   ]
  },
  {
   "cell_type": "code",
   "execution_count": null,
   "metadata": {},
   "outputs": [],
   "source": []
  }
 ],
 "metadata": {
  "kernelspec": {
   "display_name": "Python 3",
   "language": "python",
   "name": "python3"
  },
  "language_info": {
   "codemirror_mode": {
    "name": "ipython",
    "version": 3
   },
   "file_extension": ".py",
   "mimetype": "text/x-python",
   "name": "python",
   "nbconvert_exporter": "python",
   "pygments_lexer": "ipython3",
   "version": "3.8.3"
  }
 },
 "nbformat": 4,
 "nbformat_minor": 4
}
