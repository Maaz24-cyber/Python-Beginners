{
 "cells": [
  {
   "cell_type": "markdown",
   "metadata": {},
   "source": [
    "# Calculator"
   ]
  },
  {
   "cell_type": "code",
   "execution_count": 2,
   "metadata": {},
   "outputs": [
    {
     "name": "stdout",
     "output_type": "stream",
     "text": [
      " Choose 1,2,3,4 \n",
      " 1. Addition \n",
      " 2. Subtract \n",
      " 3. Multiplication \n",
      " 4. Division \n",
      "Enter Your Choice = 2\n",
      "Enter First Number = 5\n",
      "Enter Second Number = 5\n",
      "5.0  -  5.0  =  0.0\n"
     ]
    }
   ],
   "source": [
    "def add(x, y):\n",
    "    return x + y\n",
    "def sub(x, y):\n",
    "    return x - y\n",
    "def mul(x, y):\n",
    "    return x * y\n",
    "def div(x, y):\n",
    "    return x / y\n",
    "\n",
    "\n",
    "print(\" Choose 1,2,3,4 \\n 1. Addition \\n 2. Subtract \\n 3. Multiplication \\n 4. Division \")\n",
    "num = input(\"Enter Your Choice = \")\n",
    "num1 = float(input(\"Enter First Number = \"))\n",
    "num2 = float(input(\"Enter Second Number = \"))\n",
    "\n",
    "if num == '1':\n",
    "    print( num1,\" + \",num2,\" = \",add(num1,num2))\n",
    "elif num == '2':\n",
    "    print( num1,\" - \",num2,\" = \",sub(num1,num2))\n",
    "elif num == '3':\n",
    "    print( num1,\" * \",num2,\" = \",mul(num1,num2))\n",
    "elif num == '4':\n",
    "    print( num1,\" / \",num2,\" = \",div(num1,num2)) \n",
    "else:\n",
    "    print (\"Syntax Error\")\n",
    "    \n"
   ]
  },
  {
   "cell_type": "code",
   "execution_count": null,
   "metadata": {},
   "outputs": [],
   "source": []
  }
 ],
 "metadata": {
  "kernelspec": {
   "display_name": "Python 3",
   "language": "python",
   "name": "python3"
  },
  "language_info": {
   "codemirror_mode": {
    "name": "ipython",
    "version": 3
   },
   "file_extension": ".py",
   "mimetype": "text/x-python",
   "name": "python",
   "nbconvert_exporter": "python",
   "pygments_lexer": "ipython3",
   "version": "3.8.3"
  }
 },
 "nbformat": 4,
 "nbformat_minor": 4
}
