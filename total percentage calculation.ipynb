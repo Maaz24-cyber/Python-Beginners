{
 "cells": [
  {
   "cell_type": "markdown",
   "metadata": {},
   "source": [
    "# Total Percentage Calculation"
   ]
  },
  {
   "cell_type": "code",
   "execution_count": 1,
   "metadata": {},
   "outputs": [
    {
     "name": "stdout",
     "output_type": "stream",
     "text": [
      "Marks For Maths = 120\n",
      "error in marks\n",
      "Marks For Physics = 85\n",
      "85\n",
      "Marks For chemistry = 85\n",
      "85\n",
      "Marks For Computer = 85\n",
      "85\n",
      "Marks For English = 85\n",
      "85\n",
      "Total percentage =  92.0\n"
     ]
    }
   ],
   "source": [
    "def div(x,y,z,a,b,c,d):\n",
    "    per = ((x+y+z+a+b)/c)*d\n",
    "    return per\n",
    "\n",
    "c = 500\n",
    "d = 100\n",
    "m1= int(input(\"Marks For Maths = \"))\n",
    "if m1 <100:\n",
    "    print(m1)\n",
    "else:\n",
    "    print(\"error in marks\")      \n",
    "        \n",
    "m2= int(input(\"Marks For Physics = \"))\n",
    "if m2 <100:\n",
    "     print(m2)\n",
    "else:\n",
    "    print(\"error in marks\")       \n",
    "        \n",
    "m3= int(input(\"Marks For chemistry = \"))\n",
    "if m3 <100:\n",
    "    print(m3)\n",
    "else:\n",
    "    print(\"error in marks\")     \n",
    "        \n",
    "m4= int(input(\"Marks For Computer = \"))\n",
    "if m4 <100:\n",
    "    print(m4)\n",
    "else:\n",
    "    print(\"error in marks\")\n",
    "            \n",
    "m5= int(input(\"Marks For English = \"))\n",
    "if m5 <100:\n",
    "    print(m5)\n",
    "else:\n",
    "    print(\"error in marks\")\n",
    "             \n",
    "print(\"Total percentage = \", div(m1,m2,m3,m4,m5,c,d))\n",
    "\n",
    "\n",
    "\n"
   ]
  },
  {
   "cell_type": "code",
   "execution_count": null,
   "metadata": {},
   "outputs": [],
   "source": []
  }
 ],
 "metadata": {
  "kernelspec": {
   "display_name": "Python 3",
   "language": "python",
   "name": "python3"
  },
  "language_info": {
   "codemirror_mode": {
    "name": "ipython",
    "version": 3
   },
   "file_extension": ".py",
   "mimetype": "text/x-python",
   "name": "python",
   "nbconvert_exporter": "python",
   "pygments_lexer": "ipython3",
   "version": "3.8.3"
  }
 },
 "nbformat": 4,
 "nbformat_minor": 4
}
